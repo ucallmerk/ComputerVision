{
 "cells": [
  {
   "attachments": {},
   "cell_type": "markdown",
   "metadata": {},
   "source": [
    "Method 1 for Jupyter Notebook\n",
    "Using matplotlib\n"
   ]
  },
  {
   "cell_type": "code",
   "execution_count": null,
   "metadata": {
    "vscode": {
     "languageId": "plaintext"
    }
   },
   "outputs": [],
   "source": [
    "from matplotlib import pyplot as plt\n",
    "import cv2\n",
    "\n",
    "img = cv2.imread('test.png')\n",
    "gray = cv2.cvtColor(img, cv2.COLOR_BGR2GRAY)\n",
    "\n",
    "plt.imshow(gray)\n",
    "plt.title('my picture')\n",
    "plt.show()"
   ]
  },
  {
   "attachments": {},
   "cell_type": "markdown",
   "metadata": {},
   "source": [
    "Method 1.a Showing RGB image"
   ]
  },
  {
   "cell_type": "code",
   "execution_count": null,
   "metadata": {
    "vscode": {
     "languageId": "plaintext"
    }
   },
   "outputs": [],
   "source": [
    "from matplotlib import pyplot as plt\n",
    "import numpy as np\n",
    "import cv2\n",
    "\n",
    "img = cv2.imread('test.png')\n",
    "img2 = img[:,:,::-1]\n",
    "# Or one could use\n",
    "# img = cv2.cvtColor(img, cv2.COLOR_BGR2RGB)\n",
    "plt.imshow(img2)"
   ]
  },
  {
   "attachments": {},
   "cell_type": "markdown",
   "metadata": {},
   "source": [
    "Method 2 for Jupyter Notbook\n",
    "Using IPython display()"
   ]
  },
  {
   "cell_type": "code",
   "execution_count": null,
   "metadata": {
    "vscode": {
     "languageId": "plaintext"
    }
   },
   "outputs": [],
   "source": [
    "from PIL import Image\n",
    "import cv2 \n",
    "from IPython.display import display\n",
    "\n",
    "img = cv2.imread('test.png') # with the OpenCV function imread(), the order of colors is BGR (blue, green, red).\n",
    "\n",
    "# In Pillow, the order of colors is assumed to be RGB (red, green, blue).\n",
    "# As we are using Image.fromarray() of PIL module, we need to convert BGR to RGB.\n",
    "\n",
    "img = cv2.cvtColor(img, cv2.COLOR_BGR2RGB) # Converting BGR to RGB\n",
    "\n",
    "display(Image.fromarray(img))"
   ]
  },
  {
   "attachments": {},
   "cell_type": "markdown",
   "metadata": {},
   "source": [
    "For Google Collab only using openCV and a custom patch"
   ]
  },
  {
   "cell_type": "code",
   "execution_count": null,
   "metadata": {
    "vscode": {
     "languageId": "plaintext"
    }
   },
   "outputs": [],
   "source": [
    "import cv2\n",
    "from google.colab.patches import cv2_imshow\n",
    "\n",
    "path = r'/content/messi5.jpg' #Google drive path\n",
    "\n",
    "img = cv2.imread(path, 1) #Specify the flag, as a best practice\n",
    "\n",
    "cv2_imshow(img)"
   ]
  }
 ],
 "metadata": {
  "language_info": {
   "name": "python"
  },
  "orig_nbformat": 4
 },
 "nbformat": 4,
 "nbformat_minor": 2
}
